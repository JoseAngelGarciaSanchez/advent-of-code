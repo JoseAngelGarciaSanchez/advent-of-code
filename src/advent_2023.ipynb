{
 "cells": [
  {
   "cell_type": "code",
   "execution_count": 3,
   "metadata": {},
   "outputs": [
    {
     "name": "stdout",
     "output_type": "stream",
     "text": [
      "Game 7: 2 red, 7 green; 9 red, 5 blue, 18 green; 16 blue, 10 green, 6 red; 13 blue, 12 green, 6 red; 19 blue, 12 red, 11 green\n"
     ]
    }
   ],
   "source": [
    "with open(\"./../data/input_day2.txt\", \"r\") as file:\n",
    "    lines = file.readlines()\n",
    "    \n",
    "lines = [line.strip() for line in lines]\n",
    "\n",
    "print(lines[6])\n"
   ]
  },
  {
   "cell_type": "code",
   "execution_count": 16,
   "metadata": {},
   "outputs": [
    {
     "name": "stdout",
     "output_type": "stream",
     "text": [
      "[{'number': 'Game 1', 'possible': True, 'power': 504}, {'number': 'Game 2', 'possible': True, 'power': 264}, {'number': 'Game 3', 'possible': True, 'power': 288}, {'number': 'Game 4', 'possible': False, 'power': 128}, {'number': 'Game 5', 'possible': False, 'power': 38}, {'number': 'Game 6', 'possible': False, 'power': 420}, {'number': 'Game 7', 'possible': False, 'power': 4104}, {'number': 'Game 8', 'possible': True, 'power': 792}, {'number': 'Game 9', 'possible': False, 'power': 1512}, {'number': 'Game 10', 'possible': False, 'power': 136}, {'number': 'Game 11', 'possible': False, 'power': 1960}, {'number': 'Game 12', 'possible': False, 'power': 408}, {'number': 'Game 13', 'possible': False, 'power': 2470}, {'number': 'Game 14', 'possible': False, 'power': 896}, {'number': 'Game 15', 'possible': False, 'power': 320}, {'number': 'Game 16', 'possible': True, 'power': 1080}, {'number': 'Game 17', 'possible': True, 'power': 112}, {'number': 'Game 18', 'possible': True, 'power': 768}, {'number': 'Game 19', 'possible': False, 'power': 1700}, {'number': 'Game 20', 'possible': False, 'power': 3060}, {'number': 'Game 21', 'possible': True, 'power': 35}, {'number': 'Game 22', 'possible': False, 'power': 2000}, {'number': 'Game 23', 'possible': False, 'power': 720}, {'number': 'Game 24', 'possible': True, 'power': 308}, {'number': 'Game 25', 'possible': True, 'power': 75}, {'number': 'Game 26', 'possible': True, 'power': 385}, {'number': 'Game 27', 'possible': True, 'power': 400}, {'number': 'Game 28', 'possible': True, 'power': 330}, {'number': 'Game 29', 'possible': False, 'power': 1995}, {'number': 'Game 30', 'possible': True, 'power': 120}, {'number': 'Game 31', 'possible': True, 'power': 392}, {'number': 'Game 32', 'possible': True, 'power': 189}, {'number': 'Game 33', 'possible': False, 'power': 570}, {'number': 'Game 34', 'possible': False, 'power': 204}, {'number': 'Game 35', 'possible': True, 'power': 200}, {'number': 'Game 36', 'possible': True, 'power': 1053}, {'number': 'Game 37', 'possible': True, 'power': 600}, {'number': 'Game 38', 'possible': True, 'power': 24}, {'number': 'Game 39', 'possible': False, 'power': 1530}, {'number': 'Game 40', 'possible': False, 'power': 2800}, {'number': 'Game 41', 'possible': True, 'power': 135}, {'number': 'Game 42', 'possible': False, 'power': 960}, {'number': 'Game 43', 'possible': True, 'power': 144}, {'number': 'Game 44', 'possible': False, 'power': 75}, {'number': 'Game 45', 'possible': True, 'power': 55}, {'number': 'Game 46', 'possible': False, 'power': 2000}, {'number': 'Game 47', 'possible': True, 'power': 60}, {'number': 'Game 48', 'possible': True, 'power': 588}, {'number': 'Game 49', 'possible': False, 'power': 2464}, {'number': 'Game 50', 'possible': True, 'power': 56}, {'number': 'Game 51', 'possible': True, 'power': 231}, {'number': 'Game 52', 'possible': True, 'power': 182}, {'number': 'Game 53', 'possible': False, 'power': 112}, {'number': 'Game 54', 'possible': False, 'power': 192}, {'number': 'Game 55', 'possible': True, 'power': 72}, {'number': 'Game 56', 'possible': False, 'power': 2744}, {'number': 'Game 57', 'possible': True, 'power': 396}, {'number': 'Game 58', 'possible': True, 'power': 648}, {'number': 'Game 59', 'possible': True, 'power': 792}, {'number': 'Game 60', 'possible': False, 'power': 448}, {'number': 'Game 61', 'possible': False, 'power': 3078}, {'number': 'Game 62', 'possible': True, 'power': 176}, {'number': 'Game 63', 'possible': False, 'power': 980}, {'number': 'Game 64', 'possible': False, 'power': 60}, {'number': 'Game 65', 'possible': True, 'power': 216}, {'number': 'Game 66', 'possible': True, 'power': 56}, {'number': 'Game 67', 'possible': False, 'power': 1680}, {'number': 'Game 68', 'possible': True, 'power': 121}, {'number': 'Game 69', 'possible': True, 'power': 648}, {'number': 'Game 70', 'possible': True, 'power': 360}, {'number': 'Game 71', 'possible': False, 'power': 490}, {'number': 'Game 72', 'possible': False, 'power': 84}, {'number': 'Game 73', 'possible': True, 'power': 192}, {'number': 'Game 74', 'possible': False, 'power': 51}, {'number': 'Game 75', 'possible': False, 'power': 1600}, {'number': 'Game 76', 'possible': True, 'power': 864}, {'number': 'Game 77', 'possible': True, 'power': 1296}, {'number': 'Game 78', 'possible': False, 'power': 2016}, {'number': 'Game 79', 'possible': True, 'power': 64}, {'number': 'Game 80', 'possible': False, 'power': 1820}, {'number': 'Game 81', 'possible': False, 'power': 924}, {'number': 'Game 82', 'possible': True, 'power': 546}, {'number': 'Game 83', 'possible': False, 'power': 224}, {'number': 'Game 84', 'possible': False, 'power': 3808}, {'number': 'Game 85', 'possible': True, 'power': 132}, {'number': 'Game 86', 'possible': True, 'power': 360}, {'number': 'Game 87', 'possible': False, 'power': 2100}, {'number': 'Game 88', 'possible': True, 'power': 208}, {'number': 'Game 89', 'possible': False, 'power': 120}, {'number': 'Game 90', 'possible': False, 'power': 270}, {'number': 'Game 91', 'possible': False, 'power': 2800}, {'number': 'Game 92', 'possible': True, 'power': 336}, {'number': 'Game 93', 'possible': True, 'power': 60}, {'number': 'Game 94', 'possible': True, 'power': 10}, {'number': 'Game 95', 'possible': True, 'power': 120}, {'number': 'Game 96', 'possible': False, 'power': 216}, {'number': 'Game 97', 'possible': False, 'power': 490}, {'number': 'Game 98', 'possible': True, 'power': 192}, {'number': 'Game 99', 'possible': False, 'power': 1463}, {'number': 'Game 100', 'possible': True, 'power': 132}]\n",
      "2679\n",
      "77607\n"
     ]
    }
   ],
   "source": [
    "import re\n",
    "\n",
    "games = []\n",
    "\n",
    "colors = {\"green\":13, \"red\":12, \"blue\":14}\n",
    "\n",
    "for play in lines:\n",
    "    \n",
    "    game = {}\n",
    "    \n",
    "    splitted = re.split(r\":|;\", play)\n",
    "        \n",
    "    game[\"number\"] = splitted[0]\n",
    "    game[\"possible\"] = True\n",
    "    \n",
    "    min_required_blue = 0\n",
    "    min_required_red = 0\n",
    "    min_required_green = 0\n",
    "\n",
    "    for i in range(1, len(splitted)):\n",
    "\n",
    "        round_colors = splitted[i].split(\",\")\n",
    "        \n",
    "        blue_number = None\n",
    "        green_number = None\n",
    "        red_number = None\n",
    "        \n",
    "        \n",
    "        for observation in round_colors:\n",
    "\n",
    "            blue = re.search(r\"blue\", observation)\n",
    "            green = re.search(r\"green\", observation)\n",
    "            red = re.search(r\"red\", observation)\n",
    "        \n",
    "            if blue:\n",
    "                blue_number = int(re.findall(r\"\\d+\", observation)[0])\n",
    "                \n",
    "                if min_required_blue < blue_number:\n",
    "                    min_required_blue = blue_number\n",
    "\n",
    "                if blue_number > colors[\"blue\"]:\n",
    "                    game[\"possible\"] = False\n",
    "            if green:\n",
    "                green_number = int(re.findall(r\"\\d+\", observation)[0])\n",
    "    \n",
    "                if min_required_green < green_number:\n",
    "                    min_required_green = green_number\n",
    "\n",
    "                if green_number > colors[\"green\"]:\n",
    "                    game[\"possible\"] = False\n",
    "            if red:\n",
    "                red_number = int(re.findall(r\"\\d+\", observation)[0])\n",
    "    \n",
    "                if min_required_red < red_number:\n",
    "                    min_required_red = red_number\n",
    "\n",
    "                if red_number > colors[\"red\"]:\n",
    "                    game[\"possible\"] = False\n",
    "    \n",
    "    game[\"power\"] = min_required_blue * min_required_green * min_required_red\n",
    "    \n",
    "    games.append(game)\n",
    "        \n",
    "print(games)\n",
    "                \n",
    "total_sum = 0\n",
    "\n",
    "for game in games:\n",
    "    if game[\"possible\"]:\n",
    "        number_str = re.findall(r'\\d+', game[\"number\"])\n",
    "        total_sum += int(number_str[0]) \n",
    "\n",
    "print(total_sum)\n",
    "\n",
    "total_power = 0\n",
    "for game in games:\n",
    "    total_power += game[\"power\"]\n",
    "\n",
    "print(total_power)"
   ]
  },
  {
   "cell_type": "code",
   "execution_count": null,
   "metadata": {},
   "outputs": [],
   "source": []
  }
 ],
 "metadata": {
  "kernelspec": {
   "display_name": "Python 3",
   "language": "python",
   "name": "python3"
  },
  "language_info": {
   "codemirror_mode": {
    "name": "ipython",
    "version": 3
   },
   "file_extension": ".py",
   "mimetype": "text/x-python",
   "name": "python",
   "nbconvert_exporter": "python",
   "pygments_lexer": "ipython3",
   "version": "3.11.6"
  }
 },
 "nbformat": 4,
 "nbformat_minor": 2
}
